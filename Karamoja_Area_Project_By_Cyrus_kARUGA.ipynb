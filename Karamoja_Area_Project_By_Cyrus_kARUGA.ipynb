{
 "cells": [
  {
   "cell_type": "markdown",
   "id": "661c7383-ea05-4bb0-a34a-c4bbd3425c2f",
   "metadata": {},
   "source": [
    "## Data Visualization Project by Cyrus K Karuga"
   ]
  },
  {
   "cell_type": "markdown",
   "id": "5c9fd03b-34de-4f6b-a48f-95a07e5b8b7a",
   "metadata": {},
   "source": [
    "### Karamoja Subcounty; Food crop yield"
   ]
  },
  {
   "cell_type": "markdown",
   "id": "96864ebf-4429-416a-bdd3-0e24110aff14",
   "metadata": {},
   "source": [
    "#### step 1. Import all necessary Libraries"
   ]
  },
  {
   "cell_type": "code",
   "execution_count": null,
   "id": "f1cd0c67-2d2c-4bf1-a450-48575748f633",
   "metadata": {},
   "outputs": [],
   "source": [
    "###Import all libraries necessary to enable Transformation of data\n",
    "import pandas as pd\n",
    "from dbfread import DBF\n",
    "import numpy as np\n",
    "import matplotlib.pyplot as plt\n",
    "import seaborn as sns\n",
    "import geopandas as gpd\n"
   ]
  },
  {
   "cell_type": "markdown",
   "id": "3020474e-6040-429f-bbb6-5e73dc3c6f16",
   "metadata": {},
   "source": [
    "#### step 2. loading the data we have in our notebook"
   ]
  },
  {
   "cell_type": "code",
   "execution_count": null,
   "id": "04dde64d-1de0-466c-885d-4b05601be404",
   "metadata": {},
   "outputs": [],
   "source": [
    "# Load all the files that we need in our project\n",
    "# lOADING DBF FILES\n",
    "maize_dbf = pd.DataFrame(iter(DBF('Final_Project/Crop_Type_Map_Maize.dbf')))\n",
    "sorghum_dbf = pd.DataFrame(iter(DBF('Final_Project/Crop_Type_Map_Sorghum.dbf')))\n",
    "district_dbf = pd.DataFrame(iter(DBF('Final_Project/Uganda_Districts.dbf')))\n",
    "subcounty_dbf = pd.DataFrame(iter(DBF('Final_Project/Uganda_Subcounties.dbf')))\n",
    "# lOADING SHP FILES\n",
    "maize_gdf = gpd.read_file('Final_Project/Crop_Type_Map_Maize.shp')\n",
    "sorghum_gdf = gpd.read_file('Final_Project/Crop_Type_Map_Sorghum.shp')\n",
    "district_gdf = gpd.read_file('Final_Project/Uganda_Districts.shp')\n",
    "subcounty_gdf = gpd.read_file('Final_Project/Uganda_Subcounties.shp')\n",
    "\n",
    "#Loading the data i.e .CSV file\n",
    "\n",
    "df_district = pd.read_csv('Final_Project/Uganda_Karamoja_District_Crop_Yield_Population.csv')\n",
    "df_subcounty = pd.read_csv('Final_Project/Uganda_Karamoja_Subcounty_Crop_Yield_Population.csv')"
   ]
  },
  {
   "cell_type": "markdown",
   "id": "5e3d94cb-325b-4794-acd5-ad8340abee21",
   "metadata": {},
   "source": [
    "#### Step 2: Data Clean Up"
   ]
  },
  {
   "cell_type": "markdown",
   "id": "156b64e7-a5c2-4a8c-bcbd-e0ac4b9690da",
   "metadata": {},
   "source": [
    "#### Calculate:\n",
    "1. Production per Capita for Sorghum and Maize\n",
    "2. Yield Efficiency\n",
    "3. Yield Efficiency for Sorghum\n",
    "4. Yield Efficiency for Maize\n",
    "5. Population Density\n",
    "6. yield disparity\n",
    "7. Land Utilization Efficiency\n",
    "8. Comparative Advantage of crops"
   ]
  },
  {
   "cell_type": "code",
   "execution_count": null,
   "id": "3ca3dae3-0cec-4d7f-aaff-f7f73d2c6706",
   "metadata": {},
   "outputs": [],
   "source": [
    "# Calculate the percentage of land under sorghum and maize in the district and narrowed down to the subcounty,\n",
    "# From the data provided, I reached to an assumption that the df_karamoja_District data is an extract from the df_karamoja_subcounty, a few errors..\n",
    "#..pertaining the integrity of data were noted, hence I decided to use the former.\n",
    "# lets call it m_pec, s_pec and o_pec for maize, sorghum and other crops respectively\n",
    "def calculate_percentage(df, area_column, crop_area_column):\n",
    "    return round((df[area_column] / df[crop_area_column]) * 100, 2)\n",
    "\n",
    "df_district['m_pec%'] = calculate_percentage(df_district, 'M_Area_Ha', 'Crop_Area_Ha')\n",
    "df_district['s_pec%'] = calculate_percentage(df_district, 'S_Area_Ha', 'Crop_Area_Ha')\n",
    "df_district['o_pec%'] = round(((df_district['Crop_Area_Ha'] - (df_district['S_Area_Ha'] + df_district['M_Area_Ha'])) / df_district['Crop_Area_Ha']) * 100, 2)\n",
    "    \n",
    "df_subcounty['m_pec%'] = calculate_percentage(df_subcounty, 'M_Area_Ha', 'Crop_Area_Ha')\n",
    "df_subcounty['s_pec%'] = calculate_percentage(df_subcounty, 'S_Area_Ha', 'Crop_Area_Ha')\n",
    "df_subcounty['o_pec%'] = round(((df_subcounty['Crop_Area_Ha'] - (df_subcounty['S_Area_Ha'] + df_subcounty['M_Area_Ha'])) / df_subcounty['Crop_Area_Ha']) * 100, 2)\n",
    "\n",
    "\n",
    "# Add a new column for Production per Capita for Sorghum\n",
    "df_subcounty['S_Prod_Per_Capita'] = df_subcounty['S_Prod_Tot'] / df_subcounty['POP']\n",
    "\n",
    "# Add a new column for Production per Capita for Maize\n",
    "df_subcounty['M_Prod_Per_Capita'] = df_subcounty['M_Prod_Tot'] / df_subcounty['POP']\n",
    "\n",
    "# Add a new column for Yield Efficiency for Sorghum\n",
    "df_subcounty['S_Yield_Efficiency'] = df_subcounty['S_Prod_Tot'] / df_subcounty['S_Area_Ha']\n",
    "\n",
    "# Add a new column for Yield Efficiency for Maize\n",
    "df_subcounty['M_Yield_Efficiency'] = df_subcounty['M_Prod_Tot'] / df_subcounty['M_Area_Ha']\n",
    "\n",
    "# Calculate Population Density \n",
    "df_subcounty['Population_Density'] = df_subcounty['POP'] / df_subcounty['Area']\n",
    "\n",
    "# Calculate and  yield disparity (difference between highest and lowest yields)\n",
    "sorghum_yield_disparity = df_subcounty['S_Yield_Ha'].max() - df_subcounty['S_Yield_Ha'].min()\n",
    "maize_yield_disparity = df_subcounty['M_Yield_Ha'].max() - df_subcounty['M_Yield_Ha'].min()\n",
    "\n",
    "# Land Utilization Efficiency\n",
    "# Efficiency = Total Production / Crop Area\n",
    "df_subcounty['Sorghum_Efficiency'] = df_subcounty['S_Prod_Tot'] / df_subcounty['S_Area_Ha']\n",
    "df_subcounty['Maize_Efficiency'] = df_subcounty['M_Prod_Tot'] / df_subcounty['M_Area_Ha']\n",
    "\n",
    "\n",
    "# Print the most and least efficient subcounties\n",
    "most_efficient_sorghum = df_subcounty.iloc[df_subcounty['Sorghum_Efficiency'].idxmax()]['SUBCOUNTY_NAME']\n",
    "least_efficient_sorghum = df_subcounty.iloc[df_subcounty['Sorghum_Efficiency'].idxmin()]['SUBCOUNTY_NAME']\n",
    "most_efficient_maize = df_subcounty.iloc[df_subcounty['Maize_Efficiency'].idxmax()]['SUBCOUNTY_NAME']\n",
    "least_efficient_maize = df_subcounty.iloc[df_subcounty['Maize_Efficiency'].idxmin()]['SUBCOUNTY_NAME']\n",
    "\n",
    "# Calculate Comparative Advantage\n",
    "df_subcounty['Sorghum_Advantage'] = df_subcounty['S_Prod_Tot'] > df_subcounty['M_Prod_Tot']\n",
    "df_subcounty['Maize_Advantage'] = df_subcounty['M_Prod_Tot'] > df_subcounty['S_Prod_Tot']\n",
    "\n"
   ]
  },
  {
   "cell_type": "markdown",
   "id": "9c364d3f-23b4-4f6e-86e1-6dcdb9520118",
   "metadata": {},
   "source": [
    "#### Output"
   ]
  },
  {
   "cell_type": "markdown",
   "id": "bdc84600-7f27-4666-b9a1-4dda6e5b0d63",
   "metadata": {},
   "source": [
    "##### 1. Population Density"
   ]
  },
  {
   "cell_type": "code",
   "execution_count": null,
   "id": "b9d2e475-c151-4023-8fef-7d403d76d98c",
   "metadata": {},
   "outputs": [],
   "source": [
    "plt.figure(figsize=(10, 6))\n",
    "sns.scatterplot(data=df_subcounty, x='Population_Density', y='S_Prod_Tot')\n",
    "plt.title('Population Density vs Sorghum Production')\n",
    "plt.xlabel('Population Density')\n",
    "plt.ylabel('Total Sorghum Production')\n",
    "plt.show()\n",
    "\n",
    "\n",
    "# Scatter plot for Population Density vs Maize Production\n",
    "plt.figure(figsize=(10, 6))\n",
    "sns.scatterplot(data=df_subcounty, x='Population_Density', y='M_Prod_Tot')\n",
    "plt.title('Population Density vs Maize Production')\n",
    "plt.xlabel('Population Density')\n",
    "plt.ylabel('Total Maize Production')\n",
    "plt.show()\n"
   ]
  },
  {
   "cell_type": "markdown",
   "id": "b1bf45eb-49e4-442e-b1eb-bee5850668a8",
   "metadata": {},
   "source": [
    "#### 2. Yield Disparities and Optimization Opportunities"
   ]
  },
  {
   "cell_type": "code",
   "execution_count": null,
   "id": "a11bbe37-e5ba-4156-847e-ff3fddb89846",
   "metadata": {},
   "outputs": [],
   "source": [
    "plt.figure(figsize=(12, 6))\n",
    "sns.boxplot(data=df_subcounty[['S_Yield_Ha', 'M_Yield_Ha']], palette=['#3498db', '#2ecc71'])\n",
    "sns.swarmplot(data=df_subcounty[['S_Yield_Ha', 'M_Yield_Ha']], color='black', alpha=0.6)\n",
    "plt.title('Boxplot of Sorghum and Maize Yields per Hectare', fontsize=16)\n",
    "plt.ylabel('Yield per Hectare', fontsize=14)\n",
    "plt.xticks([0, 1], ['Sorghum Yield per Hectare', 'Maize Yield per Hectare'], fontsize=12)\n",
    "plt.grid(True, which='both', linestyle='--', linewidth=0.5)\n",
    "\n",
    "plt.show()\n"
   ]
  },
  {
   "cell_type": "markdown",
   "id": "fcd13f78-cc52-48e1-a26e-7af3d292a165",
   "metadata": {},
   "source": [
    "#### 3. Land Utilization Efficiency"
   ]
  },
  {
   "cell_type": "code",
   "execution_count": null,
   "id": "eb0fd5fc-718d-4ba1-af23-161d64270ff2",
   "metadata": {},
   "outputs": [],
   "source": [
    "print(f'Most Efficient Subcounty for Sorghum: {most_efficient_sorghum}')\n",
    "print(f'Least Efficient Subcounty for Sorghum: {least_efficient_sorghum}')\n",
    "print(f'Most Efficient Subcounty for Maize: {most_efficient_maize}')\n",
    "print(f'Least Efficient Subcounty for Maize: {least_efficient_maize}')"
   ]
  },
  {
   "cell_type": "markdown",
   "id": "03e45312-80c4-4872-acf3-752f75019bc0",
   "metadata": {},
   "source": [
    "#### 4. Comparative Advantage and Crop Specialization"
   ]
  },
  {
   "cell_type": "code",
   "execution_count": null,
   "id": "ce3adfb1-a673-47ab-b5ea-e9d4dbce45cf",
   "metadata": {},
   "outputs": [],
   "source": [
    "plt.figure(figsize=(12, 6))\n",
    "sns.barplot(data=df_subcounty, x='SUBCOUNTY_NAME', y='S_Prod_Tot', color='blue', label='Sorghum Production')\n",
    "sns.barplot(data=df_subcounty, x='SUBCOUNTY_NAME', y='M_Prod_Tot', color='green', label='Maize Production', alpha=0.7)\n",
    "plt.title('Comparative Advantage in Sorghum and Maize Production')\n",
    "plt.ylabel('Total Production')\n",
    "plt.xticks(rotation=90)\n",
    "plt.legend()\n",
    "plt.show()\n",
    "\n",
    "strong_sorghum_advantage = df_subcounty[df_subcounty['Sorghum_Advantage']]['SUBCOUNTY_NAME'].tolist()\n",
    "strong_maize_advantage = df_subcounty[df_subcounty['Maize_Advantage']]['SUBCOUNTY_NAME'].tolist()\n",
    "\n",
    "print(f'Subcounties with a Strong Sorghum Advantage: {strong_sorghum_advantage}')\n",
    "print(f'Subcounties with a Strong Maize Advantage: {strong_maize_advantage}')\n"
   ]
  },
  {
   "cell_type": "markdown",
   "id": "8af877b0-df9d-4145-9f2f-398651fc5967",
   "metadata": {},
   "source": [
    "### Step 3. Export back to local machine\n"
   ]
  },
  {
   "cell_type": "code",
   "execution_count": null,
   "id": "79e46ef3-51b8-46b4-ae6a-e1cae74fbcf3",
   "metadata": {},
   "outputs": [],
   "source": [
    "df_subcounty.to_csv(r'C:\\Users\\cyrus.karuga\\Downloads\\DATA\\DATA\\f_subcounty.csv', index=False)"
   ]
  },
  {
   "cell_type": "code",
   "execution_count": null,
   "id": "096850d6-b092-43b6-a2ca-e77d36172f07",
   "metadata": {},
   "outputs": [],
   "source": []
  }
 ],
 "metadata": {
  "kernelspec": {
   "display_name": "Python 3 (ipykernel)",
   "language": "python",
   "name": "python3"
  },
  "language_info": {
   "codemirror_mode": {
    "name": "ipython",
    "version": 3
   },
   "file_extension": ".py",
   "mimetype": "text/x-python",
   "name": "python",
   "nbconvert_exporter": "python",
   "pygments_lexer": "ipython3",
   "version": "3.12.2"
  }
 },
 "nbformat": 4,
 "nbformat_minor": 5
}
